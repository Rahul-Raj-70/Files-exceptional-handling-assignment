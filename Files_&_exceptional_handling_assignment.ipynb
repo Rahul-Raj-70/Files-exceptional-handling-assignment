{
  "nbformat": 4,
  "nbformat_minor": 0,
  "metadata": {
    "colab": {
      "provenance": []
    },
    "kernelspec": {
      "name": "python3",
      "display_name": "Python 3"
    },
    "language_info": {
      "name": "python"
    }
  },
  "cells": [
    {
      "cell_type": "markdown",
      "source": [
        "# **THEORETICALLY**\n"
      ],
      "metadata": {
        "id": "lC4p8i0Vht1E"
      }
    },
    {
      "cell_type": "markdown",
      "source": [
        "**1. What is the difference between interpreted and compiled languages?**\n",
        "\n",
        "Interpreted languages run code line-by-line, while compiled languages convert code into machine code before execution.\n",
        "\n",
        "**2. What is exception handling in Python?**\n",
        "\n",
        "It's a way to manage errors using try, except, else, and finally blocks.\n",
        "\n",
        "**3. What is the purpose of the finally block in exception handling?**\n",
        "\n",
        "It ensures execution of code regardless of whether an exception occurred.\n",
        "\n",
        "**4. What is logging in Python?**\n",
        "\n",
        "It's used to record events for debugging and tracking program flow.\n",
        "\n",
        "**5. What is the significance of the __del__ method in Python?**\n",
        "\n",
        "It is a destructor called when an object is about to be destroyed.\n",
        "\n",
        "**6. What is the difference between import and from ... import in Python?**\n",
        "\n",
        "import loads the entire module, from ... import loads specific attributes.\n",
        "\n",
        "**7. How can you handle multiple exceptions in Python?**\n",
        "\n",
        "Use multiple except blocks or a single block with a tuple of exceptions.\n",
        "\n",
        "**8. What is the purpose of the with statement when handling files in Python?**\n",
        "\n",
        "It ensures proper acquisition and release of resources like file handles.\n",
        "\n",
        "**9. What is the difference between multithreading and multiprocessing?**\n",
        "\n",
        "Multithreading shares memory and is lightweight; multiprocessing uses separate memory and is more robust for CPU-bound tasks.\n",
        "\n",
        "**10. What are the advantages of using logging in a program?**\n",
        "\n",
        "Helps in debugging, monitoring, and maintaining code without using print statements.\n",
        "\n",
        "**11. What is memory management in Python?**\n",
        "\n",
        "Python handles memory using private heap space and garbage collection.\n",
        "\n",
        "**12. What are the basic steps involved in exception handling in Python?**\n",
        "\n",
        "Wrap code in try, catch with except, use else for no exceptions, and finally for cleanup.\n",
        "\n",
        "**13. Why is memory management important in Python?**\n",
        "\n",
        "Prevents memory leaks and optimizes performance.\n",
        "\n",
        "**14. What is the role of try and except in exception handling?**\n",
        "\n",
        "They catch and handle exceptions during program execution.\n",
        "\n",
        "**15. How does Python's garbage collection system work?**\n",
        "\n",
        "It uses reference counting and a cyclic garbage collector to free memory.\n",
        "\n",
        "**16. What is the purpose of the else block in exception handling?**\n",
        "\n",
        "Executes code only if no exception occurs in the try block.\n",
        "\n",
        "**17. What are the common logging levels in Python?**\n",
        "\n",
        "DEBUG, INFO, WARNING, ERROR, and CRITICAL.\n",
        "\n",
        "**18. What is the difference between os.fork() and multiprocessing in Python?**\n",
        "\n",
        "os.fork() creates a child process (Unix only), multiprocessing is cross-platform and more flexible.\n",
        "\n",
        "**19. What is the importance of closing a file in Python?**\n",
        "\n",
        "Frees up system resources and ensures data is properly written.\n",
        "\n",
        "**20. What is the difference between file.read() and file.readline() in Python?**\n",
        "\n",
        "read() reads the entire file, readline() reads one line at a time.\n",
        "\n",
        "**21. What is the logging module in Python used for?**\n",
        "\n",
        "It provides a flexible framework for emitting log messages from Python programs.\n",
        "\n",
        "**22. What is the os module in Python used for in file handling?**\n",
        "\n",
        "Used to interact with the operating system, including file and directory operations.\n",
        "\n",
        "**23. What are the challenges associated with memory management in Python?**\n",
        "\n",
        "Includes memory leaks, fragmentation, and handling circular references.\n",
        "\n",
        "**24. How do you raise an exception manually in Python?**\n",
        "\n",
        "Use the raise keyword followed by an exception.\n",
        "\n",
        "**25. Why is it important to use multithreading in certain applications?**\n",
        "\n",
        "Useful for I/O-bound applications to improve responsiveness and concurrency."
      ],
      "metadata": {
        "id": "4nZia-HHfRcj"
      }
    },
    {
      "cell_type": "markdown",
      "source": [
        "# **Now CODES**"
      ],
      "metadata": {
        "id": "3z7ZQ95AhgLu"
      }
    },
    {
      "cell_type": "markdown",
      "source": [
        "**1. How can you open a file for writing in Python and write a string to it?**"
      ],
      "metadata": {
        "id": "nvfNUO8AjBBL"
      }
    },
    {
      "cell_type": "code",
      "source": [
        "with open(\"file.txt\", \"w\") as f:\n",
        "    f.write(\"Hello, world!\")\n"
      ],
      "metadata": {
        "id": "aJQsTH-WjCy0"
      },
      "execution_count": 1,
      "outputs": []
    },
    {
      "cell_type": "markdown",
      "source": [
        "**2. Write a Python program to read the contents of a file and print each line.**"
      ],
      "metadata": {
        "id": "TX3yOwcijHbt"
      }
    },
    {
      "cell_type": "code",
      "source": [
        "with open(\"file.txt\", \"r\") as f:\n",
        "    for line in f:\n",
        "        print(line.strip())\n"
      ],
      "metadata": {
        "colab": {
          "base_uri": "https://localhost:8080/"
        },
        "id": "f8YXYz2ijkCI",
        "outputId": "19479510-a3ce-4a95-a90b-b2bf8fbcd14b"
      },
      "execution_count": 2,
      "outputs": [
        {
          "output_type": "stream",
          "name": "stdout",
          "text": [
            "Hello, world!\n"
          ]
        }
      ]
    },
    {
      "cell_type": "markdown",
      "source": [
        "**3. How would you handle a case where the file doesn't exist while trying to open it for reading?**"
      ],
      "metadata": {
        "id": "pDoJ0FQNjmi3"
      }
    },
    {
      "cell_type": "code",
      "source": [
        "try:\n",
        "    with open(\"nofile.txt\", \"r\") as f:\n",
        "        print(f.read())\n",
        "except FileNotFoundError:\n",
        "    print(\"File not found.\")\n"
      ],
      "metadata": {
        "colab": {
          "base_uri": "https://localhost:8080/"
        },
        "id": "_nFCUm5bjoDM",
        "outputId": "d117f472-988e-4831-fcb4-95dbf6053598"
      },
      "execution_count": 4,
      "outputs": [
        {
          "output_type": "stream",
          "name": "stdout",
          "text": [
            "File not found.\n"
          ]
        }
      ]
    },
    {
      "cell_type": "markdown",
      "source": [
        "**4. Write a Python script that reads from one file and writes its content to another file.**"
      ],
      "metadata": {
        "id": "tVNl4CSdjxzQ"
      }
    },
    {
      "cell_type": "code",
      "source": [
        "with open(\"input.txt\", \"w\") as f:\n",
        "    f.write(\"Sample content.\")\n",
        "\n",
        "with open(\"input.txt\", \"r\") as fin, open(\"output.txt\", \"w\") as fout:\n",
        "    fout.write(fin.read())"
      ],
      "metadata": {
        "id": "3OZCpE6xkQBA"
      },
      "execution_count": 10,
      "outputs": []
    },
    {
      "cell_type": "markdown",
      "source": [
        "**5. How would you catch and handle division by zero error in Python?**"
      ],
      "metadata": {
        "id": "X2qv2M5fko3X"
      }
    },
    {
      "cell_type": "code",
      "source": [
        "try:\n",
        "    x = 10 / 0\n",
        "except ZeroDivisionError:\n",
        "    print(\"Cannot divide by zero.\")\n"
      ],
      "metadata": {
        "colab": {
          "base_uri": "https://localhost:8080/"
        },
        "id": "yz1KrKVUkrdx",
        "outputId": "efc34376-8058-4ea1-a871-70941af0e28b"
      },
      "execution_count": 9,
      "outputs": [
        {
          "output_type": "stream",
          "name": "stdout",
          "text": [
            "Cannot divide by zero.\n"
          ]
        }
      ]
    },
    {
      "cell_type": "markdown",
      "source": [
        "**6. Write a Python program that logs an error message to a log file when a division by zero exception occurs.**"
      ],
      "metadata": {
        "id": "SGDWbjUEk3k8"
      }
    },
    {
      "cell_type": "code",
      "source": [
        "import logging\n",
        "\n",
        "logging.basicConfig(filename=\"error.log\", level=logging.ERROR)\n",
        "\n",
        "try:\n",
        "    x = 10 / 0\n",
        "except ZeroDivisionError as e:\n",
        "    logging.error(\"Error occurred: %s\", e)\n"
      ],
      "metadata": {
        "colab": {
          "base_uri": "https://localhost:8080/"
        },
        "id": "Q9qOBGS8k57f",
        "outputId": "2a03c433-89cb-47b0-8e2a-d4b009f30286"
      },
      "execution_count": 12,
      "outputs": [
        {
          "output_type": "stream",
          "name": "stderr",
          "text": [
            "ERROR:root:Error occurred: division by zero\n"
          ]
        }
      ]
    },
    {
      "cell_type": "markdown",
      "source": [
        "**7. How do you log information at different levels (INFO, ERROR, WARNING) in Python using the logging module?**"
      ],
      "metadata": {
        "id": "paxUHpZslCxb"
      }
    },
    {
      "cell_type": "code",
      "source": [
        "import logging\n",
        "\n",
        "logging.basicConfig(level=logging.DEBUG)\n",
        "logging.info(\"This is an info message.\")\n",
        "logging.warning(\"This is a warning message.\")\n",
        "logging.error(\"This is an error message.\")\n"
      ],
      "metadata": {
        "colab": {
          "base_uri": "https://localhost:8080/"
        },
        "id": "QAMpXUVLlG78",
        "outputId": "f31fa6f1-cdab-4879-e9b6-3a4f8792b8c9"
      },
      "execution_count": 13,
      "outputs": [
        {
          "output_type": "stream",
          "name": "stderr",
          "text": [
            "WARNING:root:This is a warning message.\n",
            "ERROR:root:This is an error message.\n"
          ]
        }
      ]
    },
    {
      "cell_type": "markdown",
      "source": [
        "**8. Write a program to handle a file opening error using exception handling.**"
      ],
      "metadata": {
        "id": "rpiX_8C3lJzE"
      }
    },
    {
      "cell_type": "code",
      "source": [
        "try:\n",
        "    with open(\"nofile.txt\", \"r\") as f:\n",
        "        data = f.read()\n",
        "except IOError:\n",
        "    print(\"Error opening file.\")\n"
      ],
      "metadata": {
        "colab": {
          "base_uri": "https://localhost:8080/"
        },
        "id": "64aot11ulMUV",
        "outputId": "6f9868af-afbd-445e-c8da-7f08c17a65f8"
      },
      "execution_count": 14,
      "outputs": [
        {
          "output_type": "stream",
          "name": "stdout",
          "text": [
            "Error opening file.\n"
          ]
        }
      ]
    },
    {
      "cell_type": "markdown",
      "source": [
        "**9. How can you read a file line by line and store its content in a list in Python?**"
      ],
      "metadata": {
        "id": "0cH8khkblTsj"
      }
    },
    {
      "cell_type": "code",
      "source": [
        "with open(\"file.txt\", \"r\") as f:\n",
        "    lines = f.readlines()\n"
      ],
      "metadata": {
        "id": "TDs3fDz5lV-y"
      },
      "execution_count": 15,
      "outputs": []
    },
    {
      "cell_type": "markdown",
      "source": [
        "**10. How can you append data to an existing file in Python?**"
      ],
      "metadata": {
        "id": "cShg7Du1lX3d"
      }
    },
    {
      "cell_type": "code",
      "source": [
        "with open(\"file.txt\", \"a\") as f:\n",
        "    f.write(\"Appended text\\n\")\n"
      ],
      "metadata": {
        "id": "H5yu_FpZlbdZ"
      },
      "execution_count": 16,
      "outputs": []
    },
    {
      "cell_type": "markdown",
      "source": [
        "**11. Write a Python program that uses a try-except block to handle an error when attempting to access a dictionary key that doesn't exist.**"
      ],
      "metadata": {
        "id": "typlBwsolfIX"
      }
    },
    {
      "cell_type": "code",
      "source": [
        "try:\n",
        "    value = {\"a\": 1}[\"b\"]\n",
        "except KeyError:\n",
        "    print(\"Key not found.\")\n"
      ],
      "metadata": {
        "colab": {
          "base_uri": "https://localhost:8080/"
        },
        "id": "XAumPsdclhVb",
        "outputId": "e13ef1b3-30ff-4eb1-8058-eb84d35dec65"
      },
      "execution_count": 17,
      "outputs": [
        {
          "output_type": "stream",
          "name": "stdout",
          "text": [
            "Key not found.\n"
          ]
        }
      ]
    },
    {
      "cell_type": "markdown",
      "source": [
        "**12. Write a program that demonstrates using multiple except blocks to handle different types of exceptions.**"
      ],
      "metadata": {
        "id": "GHxaNQvIlkqQ"
      }
    },
    {
      "cell_type": "code",
      "source": [
        "try:\n",
        "    x = int(\"abc\")\n",
        "    y = 10 / 0\n",
        "except ValueError:\n",
        "    print(\"Value error occurred.\")\n",
        "except ZeroDivisionError:\n",
        "    print(\"Division by zero error occurred.\")\n"
      ],
      "metadata": {
        "colab": {
          "base_uri": "https://localhost:8080/"
        },
        "id": "QVL0BgIIlq3o",
        "outputId": "1e43093e-3f36-482d-d63f-98c7e513cc96"
      },
      "execution_count": 18,
      "outputs": [
        {
          "output_type": "stream",
          "name": "stdout",
          "text": [
            "Value error occurred.\n"
          ]
        }
      ]
    },
    {
      "cell_type": "markdown",
      "source": [
        "**13. How would you check if a file exists before attempting to read it in Python?**"
      ],
      "metadata": {
        "id": "UCdlOpCtlwGm"
      }
    },
    {
      "cell_type": "code",
      "source": [
        "import os\n",
        "\n",
        "if os.path.exists(\"file.txt\"):\n",
        "    with open(\"file.txt\", \"r\") as f:\n",
        "        print(f.read())\n",
        "else:\n",
        "    print(\"File does not exist.\")\n"
      ],
      "metadata": {
        "id": "k1K3oB6Gl1Kr"
      },
      "execution_count": null,
      "outputs": []
    },
    {
      "cell_type": "markdown",
      "source": [
        "**14. Write a program that uses the logging module to log both informational and error messages.**"
      ],
      "metadata": {
        "id": "_7klkQWIl2rT"
      }
    },
    {
      "cell_type": "code",
      "source": [
        "import logging\n",
        "\n",
        "logging.basicConfig(filename=\"app.log\", level=logging.INFO)\n",
        "logging.info(\"Program started\")\n",
        "\n",
        "try:\n",
        "    x = 1 / 0\n",
        "except ZeroDivisionError as e:\n",
        "    logging.error(\"Error: %s\", e)\n"
      ],
      "metadata": {
        "colab": {
          "base_uri": "https://localhost:8080/"
        },
        "id": "3q0VvLDSl59B",
        "outputId": "15efadcd-61a5-4639-b934-9b6c73ea1eca"
      },
      "execution_count": 19,
      "outputs": [
        {
          "output_type": "stream",
          "name": "stderr",
          "text": [
            "ERROR:root:Error: division by zero\n"
          ]
        }
      ]
    },
    {
      "cell_type": "markdown",
      "source": [
        "**15. Write a Python program that prints the content of a file and handles the case when the file is empty.**"
      ],
      "metadata": {
        "id": "wx3mnk9vl9JK"
      }
    },
    {
      "cell_type": "code",
      "source": [
        "with open(\"file.txt\", \"r\") as f:\n",
        "    content = f.read()\n",
        "    if content:\n",
        "        print(content)\n",
        "    else:\n",
        "        print(\"File is empty.\")\n"
      ],
      "metadata": {
        "colab": {
          "base_uri": "https://localhost:8080/"
        },
        "id": "828mqt0pl-3S",
        "outputId": "bd7f1df2-23d6-4fa8-e721-c48a3e84f882"
      },
      "execution_count": 20,
      "outputs": [
        {
          "output_type": "stream",
          "name": "stdout",
          "text": [
            "Hello, world!Appended text\n",
            "\n"
          ]
        }
      ]
    },
    {
      "cell_type": "markdown",
      "source": [
        "**16. Demonstrate how to use memory profiling to check the memory usage of a small program.**"
      ],
      "metadata": {
        "id": "Ifm93qtqmBzp"
      }
    },
    {
      "cell_type": "code",
      "source": [
        "from memory_profiler import profile\n",
        "\n",
        "@profile\n",
        "def my_function():\n",
        "    a = [i for i in range(1000000)]\n",
        "    return sum(a)\n",
        "\n",
        "if __name__ == \"__main__\":\n",
        "    my_function()\n",
        "\n"
      ],
      "metadata": {
        "colab": {
          "base_uri": "https://localhost:8080/",
          "height": 385
        },
        "id": "_XT9uz3CmD5c",
        "outputId": "2db27757-5a95-437c-a159-6a6e6ee1b46a"
      },
      "execution_count": 22,
      "outputs": [
        {
          "output_type": "error",
          "ename": "ModuleNotFoundError",
          "evalue": "No module named 'memory_profiler'",
          "traceback": [
            "\u001b[0;31m---------------------------------------------------------------------------\u001b[0m",
            "\u001b[0;31mModuleNotFoundError\u001b[0m                       Traceback (most recent call last)",
            "\u001b[0;32m<ipython-input-22-f72402a81e51>\u001b[0m in \u001b[0;36m<cell line: 0>\u001b[0;34m()\u001b[0m\n\u001b[0;32m----> 1\u001b[0;31m \u001b[0;32mfrom\u001b[0m \u001b[0mmemory_profiler\u001b[0m \u001b[0;32mimport\u001b[0m \u001b[0mprofile\u001b[0m\u001b[0;34m\u001b[0m\u001b[0;34m\u001b[0m\u001b[0m\n\u001b[0m\u001b[1;32m      2\u001b[0m \u001b[0;34m\u001b[0m\u001b[0m\n\u001b[1;32m      3\u001b[0m \u001b[0;34m@\u001b[0m\u001b[0mprofile\u001b[0m\u001b[0;34m\u001b[0m\u001b[0;34m\u001b[0m\u001b[0m\n\u001b[1;32m      4\u001b[0m \u001b[0;32mdef\u001b[0m \u001b[0mmy_function\u001b[0m\u001b[0;34m(\u001b[0m\u001b[0;34m)\u001b[0m\u001b[0;34m:\u001b[0m\u001b[0;34m\u001b[0m\u001b[0;34m\u001b[0m\u001b[0m\n\u001b[1;32m      5\u001b[0m     \u001b[0ma\u001b[0m \u001b[0;34m=\u001b[0m \u001b[0;34m[\u001b[0m\u001b[0mi\u001b[0m \u001b[0;32mfor\u001b[0m \u001b[0mi\u001b[0m \u001b[0;32min\u001b[0m \u001b[0mrange\u001b[0m\u001b[0;34m(\u001b[0m\u001b[0;36m1000000\u001b[0m\u001b[0;34m)\u001b[0m\u001b[0;34m]\u001b[0m\u001b[0;34m\u001b[0m\u001b[0;34m\u001b[0m\u001b[0m\n",
            "\u001b[0;31mModuleNotFoundError\u001b[0m: No module named 'memory_profiler'",
            "",
            "\u001b[0;31m---------------------------------------------------------------------------\u001b[0;32m\nNOTE: If your import is failing due to a missing package, you can\nmanually install dependencies using either !pip or !apt.\n\nTo view examples of installing some common dependencies, click the\n\"Open Examples\" button below.\n\u001b[0;31m---------------------------------------------------------------------------\u001b[0m\n"
          ],
          "errorDetails": {
            "actions": [
              {
                "action": "open_url",
                "actionText": "Open Examples",
                "url": "/notebooks/snippets/importing_libraries.ipynb"
              }
            ]
          }
        }
      ]
    },
    {
      "cell_type": "markdown",
      "source": [
        "**17. Write a Python program to create and write a list of numbers to a file, one number per line.**"
      ],
      "metadata": {
        "id": "i71GpwWimd1Z"
      }
    },
    {
      "cell_type": "code",
      "source": [
        "with open(\"numbers.txt\", \"w\") as f:\n",
        "    for i in range(1, 11):\n",
        "        f.write(f\"{i}\\n\")\n"
      ],
      "metadata": {
        "id": "vMDucgwtmhyE"
      },
      "execution_count": 23,
      "outputs": []
    },
    {
      "cell_type": "markdown",
      "source": [
        "**18. How would you implement a basic logging setup that logs to a file with rotation after 1MB?**"
      ],
      "metadata": {
        "id": "KMXwwqLUmkoS"
      }
    },
    {
      "cell_type": "code",
      "source": [
        "import logging\n",
        "from logging.handlers import RotatingFileHandler\n",
        "\n",
        "handler = RotatingFileHandler(\"rotating.log\", maxBytes=1048576, backupCount=3)\n",
        "logging.basicConfig(handlers=[handler], level=logging.INFO)\n",
        "logging.info(\"Rotating log setup complete.\")\n"
      ],
      "metadata": {
        "id": "kJXcfkN3mmd_"
      },
      "execution_count": 24,
      "outputs": []
    },
    {
      "cell_type": "markdown",
      "source": [
        "**19. Write a program that handles both IndexError and KeyError using a try-except block.**"
      ],
      "metadata": {
        "id": "xmQE3o6Lmowz"
      }
    },
    {
      "cell_type": "code",
      "source": [
        "try:\n",
        "    lst = [1, 2]\n",
        "    print(lst[5])\n",
        "    d = {\"a\": 1}\n",
        "    print(d[\"b\"])\n",
        "except IndexError:\n",
        "    print(\"IndexError caught.\")\n",
        "except KeyError:\n",
        "    print(\"KeyError caught.\")\n"
      ],
      "metadata": {
        "colab": {
          "base_uri": "https://localhost:8080/"
        },
        "id": "oO64g6U1mrBX",
        "outputId": "6ef58dc2-41ce-4b29-c25e-1e0655ae3f8a"
      },
      "execution_count": 25,
      "outputs": [
        {
          "output_type": "stream",
          "name": "stdout",
          "text": [
            "IndexError caught.\n"
          ]
        }
      ]
    },
    {
      "cell_type": "markdown",
      "source": [
        "**20. How would you open a file and read its contents using a context manager in Python?**"
      ],
      "metadata": {
        "id": "TJwuo3F-muHO"
      }
    },
    {
      "cell_type": "code",
      "source": [
        "with open(\"file.txt\", \"r\") as f:\n",
        "    print(f.read())\n"
      ],
      "metadata": {
        "colab": {
          "base_uri": "https://localhost:8080/"
        },
        "id": "VtpWtYRHmwCf",
        "outputId": "68972f09-b8be-48fa-c613-bd390ffc8a14"
      },
      "execution_count": 26,
      "outputs": [
        {
          "output_type": "stream",
          "name": "stdout",
          "text": [
            "Hello, world!Appended text\n",
            "\n"
          ]
        }
      ]
    },
    {
      "cell_type": "markdown",
      "source": [
        "**21. Write a Python program that reads a file and prints the number of occurrences of a specific word.**"
      ],
      "metadata": {
        "id": "MEReD9PSmyyA"
      }
    },
    {
      "cell_type": "code",
      "source": [
        "word = \"python\"\n",
        "with open(\"file.txt\", \"r\") as f:\n",
        "    content = f.read().lower()\n",
        "    print(content.count(word))\n"
      ],
      "metadata": {
        "id": "S-kj7pJWm0y3"
      },
      "execution_count": null,
      "outputs": []
    },
    {
      "cell_type": "markdown",
      "source": [
        "**22. How can you check if a file is empty before attempting to read its contents?**"
      ],
      "metadata": {
        "id": "8iTZhsR5m1dO"
      }
    },
    {
      "cell_type": "code",
      "source": [
        "import os\n",
        "\n",
        "if os.path.getsize(\"file.txt\") == 0:\n",
        "    print(\"File is empty.\")\n",
        "else:\n",
        "    with open(\"file.txt\", \"r\") as f:\n",
        "        print(f.read())\n"
      ],
      "metadata": {
        "colab": {
          "base_uri": "https://localhost:8080/"
        },
        "id": "r5vsf6Hwm5BK",
        "outputId": "abc8a012-017f-45d8-a0d3-5fdadf8bdb38"
      },
      "execution_count": 27,
      "outputs": [
        {
          "output_type": "stream",
          "name": "stdout",
          "text": [
            "Hello, world!Appended text\n",
            "\n"
          ]
        }
      ]
    },
    {
      "cell_type": "markdown",
      "source": [
        "**23. Write a Python program that writes to a log file when an error occurs during file handling**."
      ],
      "metadata": {
        "id": "mj-zr01Pm6w0"
      }
    },
    {
      "cell_type": "code",
      "source": [
        "import logging\n",
        "\n",
        "logging.basicConfig(filename=\"file_error.log\", level=logging.ERROR)\n",
        "\n",
        "try:\n",
        "    with open(\"nofile.txt\", \"r\") as f:\n",
        "        data = f.read()\n",
        "except Exception as e:\n",
        "    logging.error(\"File handling error: %s\", e)\n"
      ],
      "metadata": {
        "colab": {
          "base_uri": "https://localhost:8080/"
        },
        "id": "dClipcbcnQtQ",
        "outputId": "98c1ca23-31b2-45bd-c7fc-48adbe4241ef"
      },
      "execution_count": 28,
      "outputs": [
        {
          "output_type": "stream",
          "name": "stderr",
          "text": [
            "ERROR:root:File handling error: [Errno 2] No such file or directory: 'nofile.txt'\n"
          ]
        }
      ]
    }
  ]
}